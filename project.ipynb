{
 "cells": [
  {
   "cell_type": "markdown",
   "id": "fe0695dc",
   "metadata": {},
   "source": [
    "# Maximizing Revenue for Taxi Cab Drivers through Payment Type Analysis\n"
   ]
  },
  {
   "cell_type": "markdown",
   "id": "42b3f42e",
   "metadata": {},
   "source": [
    "**Problem Statement**\n",
    "\n",
    "In the fast-paced taxi booking sector, making the most of revenue is essential for long-term success and driver happiness. Our goal is to use data-driven insights to maximise revenue streams for taxi drivers in order to meet this need. Our research aims to determine whether payment methods have an impact on fare pricing by focusing on the relationship between payment type and fare amount."
   ]
  },
  {
   "cell_type": "markdown",
   "id": "bef8714f",
   "metadata": {},
   "source": [
    "**Objective**\n",
    "\n",
    "This project’s main goal is to run an A/B test to examine the relationship between the total fare and the method of payment. We use Python hypothesis testing and descriptive statistics to extract useful information that can help taxi drivers generate more cash. In particular, we want to find out if there is a big difference in the fares for those who pay with credit cards versus those who pay with cash."
   ]
  },
  {
   "cell_type": "markdown",
   "id": "6e12093f",
   "metadata": {},
   "source": [
    "**Research Question**\n",
    "\n",
    "Is there a relationship between total fare amount and payment type and can we nudge customers towards payment methods that generate higher revenue for drivers, without negatively impacting customer experience?"
   ]
  },
  {
   "cell_type": "markdown",
   "id": "7df43806",
   "metadata": {},
   "source": [
    "# Importing Libraries"
   ]
  },
  {
   "cell_type": "code",
   "execution_count": 2,
   "id": "aa66ca23",
   "metadata": {},
   "outputs": [],
   "source": [
    "import pandas as pd\n",
    "import numpy as np\n",
    "import matplotlib.pyplot as plt\n",
    "import seaborn as sns\n",
    "import scipy.stats as st\n",
    "import statsmodels.api as sm\n",
    "import warnings\n",
    "\n",
    "warnings.filterwarnings('ignore')"
   ]
  },
  {
   "cell_type": "markdown",
   "id": "b5234ce7",
   "metadata": {},
   "source": [
    "# Loading the Dataset"
   ]
  },
  {
   "cell_type": "code",
   "execution_count": 6,
   "id": "93fee5f1",
   "metadata": {},
   "outputs": [],
   "source": [
    "taxi_data = pd.read_csv('yellow_taxi_jan.csv')"
   ]
  },
  {
   "cell_type": "code",
   "execution_count": 7,
   "id": "062d5f1b",
   "metadata": {},
   "outputs": [
    {
     "data": {
      "text/html": [
       "<div>\n",
       "<style scoped>\n",
       "    .dataframe tbody tr th:only-of-type {\n",
       "        vertical-align: middle;\n",
       "    }\n",
       "\n",
       "    .dataframe tbody tr th {\n",
       "        vertical-align: top;\n",
       "    }\n",
       "\n",
       "    .dataframe thead th {\n",
       "        text-align: right;\n",
       "    }\n",
       "</style>\n",
       "<table border=\"1\" class=\"dataframe\">\n",
       "  <thead>\n",
       "    <tr style=\"text-align: right;\">\n",
       "      <th></th>\n",
       "      <th>VendorID</th>\n",
       "      <th>tpep_pickup_datetime</th>\n",
       "      <th>tpep_dropoff_datetime</th>\n",
       "      <th>passenger_count</th>\n",
       "      <th>trip_distance</th>\n",
       "      <th>RatecodeID</th>\n",
       "      <th>store_and_fwd_flag</th>\n",
       "      <th>PULocationID</th>\n",
       "      <th>DOLocationID</th>\n",
       "      <th>payment_type</th>\n",
       "      <th>fare_amount</th>\n",
       "      <th>extra</th>\n",
       "      <th>mta_tax</th>\n",
       "      <th>tip_amount</th>\n",
       "      <th>tolls_amount</th>\n",
       "      <th>improvement_surcharge</th>\n",
       "      <th>total_amount</th>\n",
       "      <th>congestion_surcharge</th>\n",
       "    </tr>\n",
       "  </thead>\n",
       "  <tbody>\n",
       "    <tr>\n",
       "      <th>0</th>\n",
       "      <td>1.0</td>\n",
       "      <td>2020-01-01 00:28:15</td>\n",
       "      <td>01/01/2020 12:33:03 AM</td>\n",
       "      <td>1.0</td>\n",
       "      <td>1.2</td>\n",
       "      <td>1.0</td>\n",
       "      <td>N</td>\n",
       "      <td>238</td>\n",
       "      <td>239</td>\n",
       "      <td>1.0</td>\n",
       "      <td>6.0</td>\n",
       "      <td>3.0</td>\n",
       "      <td>0.5</td>\n",
       "      <td>1.47</td>\n",
       "      <td>0.0</td>\n",
       "      <td>0.3</td>\n",
       "      <td>11.27</td>\n",
       "      <td>2.5</td>\n",
       "    </tr>\n",
       "    <tr>\n",
       "      <th>1</th>\n",
       "      <td>1.0</td>\n",
       "      <td>2020-01-01 00:35:39</td>\n",
       "      <td>01/01/2020 12:43:04 AM</td>\n",
       "      <td>1.0</td>\n",
       "      <td>1.2</td>\n",
       "      <td>1.0</td>\n",
       "      <td>N</td>\n",
       "      <td>239</td>\n",
       "      <td>238</td>\n",
       "      <td>1.0</td>\n",
       "      <td>7.0</td>\n",
       "      <td>3.0</td>\n",
       "      <td>0.5</td>\n",
       "      <td>1.50</td>\n",
       "      <td>0.0</td>\n",
       "      <td>0.3</td>\n",
       "      <td>12.30</td>\n",
       "      <td>2.5</td>\n",
       "    </tr>\n",
       "    <tr>\n",
       "      <th>2</th>\n",
       "      <td>1.0</td>\n",
       "      <td>2020-01-01 00:47:41</td>\n",
       "      <td>01/01/2020 12:53:52 AM</td>\n",
       "      <td>1.0</td>\n",
       "      <td>0.6</td>\n",
       "      <td>1.0</td>\n",
       "      <td>N</td>\n",
       "      <td>238</td>\n",
       "      <td>238</td>\n",
       "      <td>1.0</td>\n",
       "      <td>6.0</td>\n",
       "      <td>3.0</td>\n",
       "      <td>0.5</td>\n",
       "      <td>1.00</td>\n",
       "      <td>0.0</td>\n",
       "      <td>0.3</td>\n",
       "      <td>10.80</td>\n",
       "      <td>2.5</td>\n",
       "    </tr>\n",
       "    <tr>\n",
       "      <th>3</th>\n",
       "      <td>1.0</td>\n",
       "      <td>2020-01-01 00:55:23</td>\n",
       "      <td>01/01/2020 01:00:14 AM</td>\n",
       "      <td>1.0</td>\n",
       "      <td>0.8</td>\n",
       "      <td>1.0</td>\n",
       "      <td>N</td>\n",
       "      <td>238</td>\n",
       "      <td>151</td>\n",
       "      <td>1.0</td>\n",
       "      <td>5.5</td>\n",
       "      <td>0.5</td>\n",
       "      <td>0.5</td>\n",
       "      <td>1.36</td>\n",
       "      <td>0.0</td>\n",
       "      <td>0.3</td>\n",
       "      <td>8.16</td>\n",
       "      <td>0.0</td>\n",
       "    </tr>\n",
       "    <tr>\n",
       "      <th>4</th>\n",
       "      <td>2.0</td>\n",
       "      <td>2020-01-01 00:01:58</td>\n",
       "      <td>01/01/2020 12:04:16 AM</td>\n",
       "      <td>1.0</td>\n",
       "      <td>0.0</td>\n",
       "      <td>1.0</td>\n",
       "      <td>N</td>\n",
       "      <td>193</td>\n",
       "      <td>193</td>\n",
       "      <td>2.0</td>\n",
       "      <td>3.5</td>\n",
       "      <td>0.5</td>\n",
       "      <td>0.5</td>\n",
       "      <td>0.00</td>\n",
       "      <td>0.0</td>\n",
       "      <td>0.3</td>\n",
       "      <td>4.80</td>\n",
       "      <td>0.0</td>\n",
       "    </tr>\n",
       "  </tbody>\n",
       "</table>\n",
       "</div>"
      ],
      "text/plain": [
       "   VendorID tpep_pickup_datetime   tpep_dropoff_datetime  passenger_count  \\\n",
       "0       1.0  2020-01-01 00:28:15  01/01/2020 12:33:03 AM              1.0   \n",
       "1       1.0  2020-01-01 00:35:39  01/01/2020 12:43:04 AM              1.0   \n",
       "2       1.0  2020-01-01 00:47:41  01/01/2020 12:53:52 AM              1.0   \n",
       "3       1.0  2020-01-01 00:55:23  01/01/2020 01:00:14 AM              1.0   \n",
       "4       2.0  2020-01-01 00:01:58  01/01/2020 12:04:16 AM              1.0   \n",
       "\n",
       "   trip_distance  RatecodeID store_and_fwd_flag  PULocationID  DOLocationID  \\\n",
       "0            1.2         1.0                  N           238           239   \n",
       "1            1.2         1.0                  N           239           238   \n",
       "2            0.6         1.0                  N           238           238   \n",
       "3            0.8         1.0                  N           238           151   \n",
       "4            0.0         1.0                  N           193           193   \n",
       "\n",
       "   payment_type  fare_amount  extra  mta_tax  tip_amount  tolls_amount  \\\n",
       "0           1.0          6.0    3.0      0.5        1.47           0.0   \n",
       "1           1.0          7.0    3.0      0.5        1.50           0.0   \n",
       "2           1.0          6.0    3.0      0.5        1.00           0.0   \n",
       "3           1.0          5.5    0.5      0.5        1.36           0.0   \n",
       "4           2.0          3.5    0.5      0.5        0.00           0.0   \n",
       "\n",
       "   improvement_surcharge  total_amount  congestion_surcharge  \n",
       "0                    0.3         11.27                   2.5  \n",
       "1                    0.3         12.30                   2.5  \n",
       "2                    0.3         10.80                   2.5  \n",
       "3                    0.3          8.16                   0.0  \n",
       "4                    0.3          4.80                   0.0  "
      ]
     },
     "execution_count": 7,
     "metadata": {},
     "output_type": "execute_result"
    }
   ],
   "source": [
    "taxi_data.head()"
   ]
  },
  {
   "cell_type": "code",
   "execution_count": 8,
   "id": "28f97e1d",
   "metadata": {},
   "outputs": [
    {
     "data": {
      "text/html": [
       "<div>\n",
       "<style scoped>\n",
       "    .dataframe tbody tr th:only-of-type {\n",
       "        vertical-align: middle;\n",
       "    }\n",
       "\n",
       "    .dataframe tbody tr th {\n",
       "        vertical-align: top;\n",
       "    }\n",
       "\n",
       "    .dataframe thead th {\n",
       "        text-align: right;\n",
       "    }\n",
       "</style>\n",
       "<table border=\"1\" class=\"dataframe\">\n",
       "  <thead>\n",
       "    <tr style=\"text-align: right;\">\n",
       "      <th></th>\n",
       "      <th>VendorID</th>\n",
       "      <th>tpep_pickup_datetime</th>\n",
       "      <th>tpep_dropoff_datetime</th>\n",
       "      <th>passenger_count</th>\n",
       "      <th>trip_distance</th>\n",
       "      <th>RatecodeID</th>\n",
       "      <th>store_and_fwd_flag</th>\n",
       "      <th>PULocationID</th>\n",
       "      <th>DOLocationID</th>\n",
       "      <th>payment_type</th>\n",
       "      <th>fare_amount</th>\n",
       "      <th>extra</th>\n",
       "      <th>mta_tax</th>\n",
       "      <th>tip_amount</th>\n",
       "      <th>tolls_amount</th>\n",
       "      <th>improvement_surcharge</th>\n",
       "      <th>total_amount</th>\n",
       "      <th>congestion_surcharge</th>\n",
       "    </tr>\n",
       "  </thead>\n",
       "  <tbody>\n",
       "    <tr>\n",
       "      <th>6405193</th>\n",
       "      <td>2.0</td>\n",
       "      <td>2009-01-01 00:46:10</td>\n",
       "      <td>01/01/2009 01:16:52 AM</td>\n",
       "      <td>2.0</td>\n",
       "      <td>9.36</td>\n",
       "      <td>1.0</td>\n",
       "      <td>N</td>\n",
       "      <td>132</td>\n",
       "      <td>39</td>\n",
       "      <td>2.0</td>\n",
       "      <td>28.5</td>\n",
       "      <td>0.0</td>\n",
       "      <td>0.5</td>\n",
       "      <td>0.00</td>\n",
       "      <td>0.0</td>\n",
       "      <td>0.3</td>\n",
       "      <td>29.30</td>\n",
       "      <td>0.0</td>\n",
       "    </tr>\n",
       "    <tr>\n",
       "      <th>6405194</th>\n",
       "      <td>2.0</td>\n",
       "      <td>2021-01-20 12:25:47</td>\n",
       "      <td>01/20/2021 12:34:29 PM</td>\n",
       "      <td>1.0</td>\n",
       "      <td>1.56</td>\n",
       "      <td>1.0</td>\n",
       "      <td>N</td>\n",
       "      <td>170</td>\n",
       "      <td>79</td>\n",
       "      <td>1.0</td>\n",
       "      <td>8.0</td>\n",
       "      <td>1.0</td>\n",
       "      <td>0.5</td>\n",
       "      <td>2.46</td>\n",
       "      <td>0.0</td>\n",
       "      <td>0.3</td>\n",
       "      <td>14.76</td>\n",
       "      <td>2.5</td>\n",
       "    </tr>\n",
       "    <tr>\n",
       "      <th>6405195</th>\n",
       "      <td>2.0</td>\n",
       "      <td>2021-01-01 00:01:21</td>\n",
       "      <td>01/01/2021 12:01:40 AM</td>\n",
       "      <td>2.0</td>\n",
       "      <td>0.02</td>\n",
       "      <td>1.0</td>\n",
       "      <td>N</td>\n",
       "      <td>263</td>\n",
       "      <td>263</td>\n",
       "      <td>3.0</td>\n",
       "      <td>-2.5</td>\n",
       "      <td>-0.5</td>\n",
       "      <td>-0.5</td>\n",
       "      <td>0.00</td>\n",
       "      <td>0.0</td>\n",
       "      <td>-0.3</td>\n",
       "      <td>-6.30</td>\n",
       "      <td>-2.5</td>\n",
       "    </tr>\n",
       "    <tr>\n",
       "      <th>6405196</th>\n",
       "      <td>2.0</td>\n",
       "      <td>2021-01-01 00:01:21</td>\n",
       "      <td>01/01/2021 12:01:40 AM</td>\n",
       "      <td>2.0</td>\n",
       "      <td>0.02</td>\n",
       "      <td>1.0</td>\n",
       "      <td>N</td>\n",
       "      <td>263</td>\n",
       "      <td>263</td>\n",
       "      <td>2.0</td>\n",
       "      <td>2.5</td>\n",
       "      <td>0.5</td>\n",
       "      <td>0.5</td>\n",
       "      <td>0.00</td>\n",
       "      <td>0.0</td>\n",
       "      <td>0.3</td>\n",
       "      <td>6.30</td>\n",
       "      <td>2.5</td>\n",
       "    </tr>\n",
       "    <tr>\n",
       "      <th>6405197</th>\n",
       "      <td>2.0</td>\n",
       "      <td>2021-01-01 00:10:00</td>\n",
       "      <td>01/01/2021 12:30:47 AM</td>\n",
       "      <td>1.0</td>\n",
       "      <td>9.74</td>\n",
       "      <td>1.0</td>\n",
       "      <td>N</td>\n",
       "      <td>68</td>\n",
       "      <td>243</td>\n",
       "      <td>2.0</td>\n",
       "      <td>28.5</td>\n",
       "      <td>0.5</td>\n",
       "      <td>0.5</td>\n",
       "      <td>0.00</td>\n",
       "      <td>0.0</td>\n",
       "      <td>0.3</td>\n",
       "      <td>32.30</td>\n",
       "      <td>2.5</td>\n",
       "    </tr>\n",
       "  </tbody>\n",
       "</table>\n",
       "</div>"
      ],
      "text/plain": [
       "         VendorID tpep_pickup_datetime   tpep_dropoff_datetime  \\\n",
       "6405193       2.0  2009-01-01 00:46:10  01/01/2009 01:16:52 AM   \n",
       "6405194       2.0  2021-01-20 12:25:47  01/20/2021 12:34:29 PM   \n",
       "6405195       2.0  2021-01-01 00:01:21  01/01/2021 12:01:40 AM   \n",
       "6405196       2.0  2021-01-01 00:01:21  01/01/2021 12:01:40 AM   \n",
       "6405197       2.0  2021-01-01 00:10:00  01/01/2021 12:30:47 AM   \n",
       "\n",
       "         passenger_count  trip_distance  RatecodeID store_and_fwd_flag  \\\n",
       "6405193              2.0           9.36         1.0                  N   \n",
       "6405194              1.0           1.56         1.0                  N   \n",
       "6405195              2.0           0.02         1.0                  N   \n",
       "6405196              2.0           0.02         1.0                  N   \n",
       "6405197              1.0           9.74         1.0                  N   \n",
       "\n",
       "         PULocationID  DOLocationID  payment_type  fare_amount  extra  \\\n",
       "6405193           132            39           2.0         28.5    0.0   \n",
       "6405194           170            79           1.0          8.0    1.0   \n",
       "6405195           263           263           3.0         -2.5   -0.5   \n",
       "6405196           263           263           2.0          2.5    0.5   \n",
       "6405197            68           243           2.0         28.5    0.5   \n",
       "\n",
       "         mta_tax  tip_amount  tolls_amount  improvement_surcharge  \\\n",
       "6405193      0.5        0.00           0.0                    0.3   \n",
       "6405194      0.5        2.46           0.0                    0.3   \n",
       "6405195     -0.5        0.00           0.0                   -0.3   \n",
       "6405196      0.5        0.00           0.0                    0.3   \n",
       "6405197      0.5        0.00           0.0                    0.3   \n",
       "\n",
       "         total_amount  congestion_surcharge  \n",
       "6405193         29.30                   0.0  \n",
       "6405194         14.76                   2.5  \n",
       "6405195         -6.30                  -2.5  \n",
       "6405196          6.30                   2.5  \n",
       "6405197         32.30                   2.5  "
      ]
     },
     "execution_count": 8,
     "metadata": {},
     "output_type": "execute_result"
    }
   ],
   "source": [
    "taxi_data.tail()"
   ]
  },
  {
   "cell_type": "markdown",
   "id": "24917cd2",
   "metadata": {},
   "source": [
    "# Exploratory Data Analysis"
   ]
  },
  {
   "cell_type": "code",
   "execution_count": 9,
   "id": "ebc8709c",
   "metadata": {},
   "outputs": [
    {
     "data": {
      "text/plain": [
       "(6405198, 18)"
      ]
     },
     "execution_count": 9,
     "metadata": {},
     "output_type": "execute_result"
    }
   ],
   "source": [
    "taxi_data.shape"
   ]
  },
  {
   "cell_type": "code",
   "execution_count": 10,
   "id": "ecfad184",
   "metadata": {},
   "outputs": [
    {
     "data": {
      "text/plain": [
       "VendorID                 float64\n",
       "tpep_pickup_datetime      object\n",
       "tpep_dropoff_datetime     object\n",
       "passenger_count          float64\n",
       "trip_distance            float64\n",
       "RatecodeID               float64\n",
       "store_and_fwd_flag        object\n",
       "PULocationID               int64\n",
       "DOLocationID               int64\n",
       "payment_type             float64\n",
       "fare_amount              float64\n",
       "extra                    float64\n",
       "mta_tax                  float64\n",
       "tip_amount               float64\n",
       "tolls_amount             float64\n",
       "improvement_surcharge    float64\n",
       "total_amount             float64\n",
       "congestion_surcharge     float64\n",
       "dtype: object"
      ]
     },
     "execution_count": 10,
     "metadata": {},
     "output_type": "execute_result"
    }
   ],
   "source": [
    "taxi_data.dtypes"
   ]
  },
  {
   "cell_type": "markdown",
   "id": "dc1c17a9",
   "metadata": {},
   "source": [
    "# Calculating duration from the pickup and dropoff datetime in minutes"
   ]
  },
  {
   "cell_type": "code",
   "execution_count": 11,
   "id": "efa20f82",
   "metadata": {},
   "outputs": [],
   "source": [
    "# converting pickup and dropoff to datatime\n",
    "taxi_data['tpep_pickup_datetime'] = pd.to_datetime(taxi_data['tpep_pickup_datetime'])\n",
    "taxi_data['tpep_dropoff_datetime'] = pd.to_datetime(taxi_data['tpep_dropoff_datetime'])\n",
    "\n",
    "# Subtracting the pickup time from dropoff time to get duration\n",
    "taxi_data['duration'] = taxi_data['tpep_dropoff_datetime']-taxi_data['tpep_pickup_datetime']\n",
    "\n",
    "#Converting into mintues\n",
    "taxi_data['duration'] = taxi_data['duration'].dt.total_seconds()/60"
   ]
  },
  {
   "cell_type": "code",
   "execution_count": 12,
   "id": "96b2fb5f",
   "metadata": {},
   "outputs": [
    {
     "data": {
      "text/plain": [
       "VendorID                        float64\n",
       "tpep_pickup_datetime     datetime64[ns]\n",
       "tpep_dropoff_datetime    datetime64[ns]\n",
       "passenger_count                 float64\n",
       "trip_distance                   float64\n",
       "RatecodeID                      float64\n",
       "store_and_fwd_flag               object\n",
       "PULocationID                      int64\n",
       "DOLocationID                      int64\n",
       "payment_type                    float64\n",
       "fare_amount                     float64\n",
       "extra                           float64\n",
       "mta_tax                         float64\n",
       "tip_amount                      float64\n",
       "tolls_amount                    float64\n",
       "improvement_surcharge           float64\n",
       "total_amount                    float64\n",
       "congestion_surcharge            float64\n",
       "duration                        float64\n",
       "dtype: object"
      ]
     },
     "execution_count": 12,
     "metadata": {},
     "output_type": "execute_result"
    }
   ],
   "source": [
    "taxi_data.dtypes"
   ]
  },
  {
   "cell_type": "markdown",
   "id": "23aeae5a",
   "metadata": {},
   "source": [
    "There are so many columns in the dataset, but as per our problem statement, we only require some fields from the original data. Rest columns are nothing but the unwanted columns for this study. So we will simply remove those columns."
   ]
  },
  {
   "cell_type": "markdown",
   "id": "2ac9fff9",
   "metadata": {},
   "source": [
    "As the problem statement is revolving around the payment type, fare amount, and any other factor influencing the fare amount, we will filter the data to have only passenger count, trip distance, payment type, fare amount and duration of the trip."
   ]
  },
  {
   "cell_type": "code",
   "execution_count": 13,
   "id": "c9783ddf",
   "metadata": {},
   "outputs": [
    {
     "data": {
      "text/plain": [
       "Index(['VendorID', 'tpep_pickup_datetime', 'tpep_dropoff_datetime',\n",
       "       'passenger_count', 'trip_distance', 'RatecodeID', 'store_and_fwd_flag',\n",
       "       'PULocationID', 'DOLocationID', 'payment_type', 'fare_amount', 'extra',\n",
       "       'mta_tax', 'tip_amount', 'tolls_amount', 'improvement_surcharge',\n",
       "       'total_amount', 'congestion_surcharge', 'duration'],\n",
       "      dtype='object')"
      ]
     },
     "execution_count": 13,
     "metadata": {},
     "output_type": "execute_result"
    }
   ],
   "source": [
    "taxi_data.columns"
   ]
  },
  {
   "cell_type": "code",
   "execution_count": 14,
   "id": "855fa072",
   "metadata": {},
   "outputs": [],
   "source": [
    "# removing unwanted columns\n",
    "taxi_data.drop(['VendorID','tpep_pickup_datetime','tpep_dropoff_datetime','RatecodeID','store_and_fwd_flag','PULocationID','DOLocationID','extra','mta_tax','tip_amount','tolls_amount','improvement_surcharge','total_amount','congestion_surcharge'], axis=1,inplace=True)"
   ]
  },
  {
   "cell_type": "code",
   "execution_count": 15,
   "id": "f2ea850b",
   "metadata": {},
   "outputs": [
    {
     "data": {
      "text/html": [
       "<div>\n",
       "<style scoped>\n",
       "    .dataframe tbody tr th:only-of-type {\n",
       "        vertical-align: middle;\n",
       "    }\n",
       "\n",
       "    .dataframe tbody tr th {\n",
       "        vertical-align: top;\n",
       "    }\n",
       "\n",
       "    .dataframe thead th {\n",
       "        text-align: right;\n",
       "    }\n",
       "</style>\n",
       "<table border=\"1\" class=\"dataframe\">\n",
       "  <thead>\n",
       "    <tr style=\"text-align: right;\">\n",
       "      <th></th>\n",
       "      <th>passenger_count</th>\n",
       "      <th>trip_distance</th>\n",
       "      <th>payment_type</th>\n",
       "      <th>fare_amount</th>\n",
       "      <th>duration</th>\n",
       "    </tr>\n",
       "  </thead>\n",
       "  <tbody>\n",
       "    <tr>\n",
       "      <th>0</th>\n",
       "      <td>1.0</td>\n",
       "      <td>1.2</td>\n",
       "      <td>1.0</td>\n",
       "      <td>6.0</td>\n",
       "      <td>4.800000</td>\n",
       "    </tr>\n",
       "    <tr>\n",
       "      <th>1</th>\n",
       "      <td>1.0</td>\n",
       "      <td>1.2</td>\n",
       "      <td>1.0</td>\n",
       "      <td>7.0</td>\n",
       "      <td>7.416667</td>\n",
       "    </tr>\n",
       "    <tr>\n",
       "      <th>2</th>\n",
       "      <td>1.0</td>\n",
       "      <td>0.6</td>\n",
       "      <td>1.0</td>\n",
       "      <td>6.0</td>\n",
       "      <td>6.183333</td>\n",
       "    </tr>\n",
       "    <tr>\n",
       "      <th>3</th>\n",
       "      <td>1.0</td>\n",
       "      <td>0.8</td>\n",
       "      <td>1.0</td>\n",
       "      <td>5.5</td>\n",
       "      <td>4.850000</td>\n",
       "    </tr>\n",
       "    <tr>\n",
       "      <th>4</th>\n",
       "      <td>1.0</td>\n",
       "      <td>0.0</td>\n",
       "      <td>2.0</td>\n",
       "      <td>3.5</td>\n",
       "      <td>2.300000</td>\n",
       "    </tr>\n",
       "  </tbody>\n",
       "</table>\n",
       "</div>"
      ],
      "text/plain": [
       "   passenger_count  trip_distance  payment_type  fare_amount  duration\n",
       "0              1.0            1.2           1.0          6.0  4.800000\n",
       "1              1.0            1.2           1.0          7.0  7.416667\n",
       "2              1.0            0.6           1.0          6.0  6.183333\n",
       "3              1.0            0.8           1.0          5.5  4.850000\n",
       "4              1.0            0.0           2.0          3.5  2.300000"
      ]
     },
     "execution_count": 15,
     "metadata": {},
     "output_type": "execute_result"
    }
   ],
   "source": [
    "# filtered data with relevant columns essential for the analysis\n",
    "taxi_data.head()"
   ]
  },
  {
   "cell_type": "code",
   "execution_count": 16,
   "id": "23d50390",
   "metadata": {},
   "outputs": [
    {
     "data": {
      "text/plain": [
       "passenger_count    65441\n",
       "trip_distance          0\n",
       "payment_type       65441\n",
       "fare_amount            0\n",
       "duration               0\n",
       "dtype: int64"
      ]
     },
     "execution_count": 16,
     "metadata": {},
     "output_type": "execute_result"
    }
   ],
   "source": [
    "taxi_data.isnull().sum()"
   ]
  },
  {
   "cell_type": "markdown",
   "id": "34dc8766",
   "metadata": {},
   "source": [
    "percentage of missing data to the total record of the data"
   ]
  },
  {
   "cell_type": "code",
   "execution_count": null,
   "id": "fb4986d5",
   "metadata": {},
   "outputs": [
    {
     "name": "stdout",
     "output_type": "stream",
     "text": [
      "Missing data : 1.02 %\n"
     ]
    }
   ],
   "source": [
    "print('Missing data :',round(65441/taxi_data.shape[0]*100,2),\"%\")"
   ]
  },
  {
   "cell_type": "markdown",
   "id": "df8eb6f5",
   "metadata": {},
   "source": [
    "As the data has only 1% of data missing, we can simply drop the records with missing values."
   ]
  },
  {
   "cell_type": "code",
   "execution_count": null,
   "id": "ee499945",
   "metadata": {},
   "outputs": [],
   "source": [
    "taxi_data.dropna(inplace=True)"
   ]
  },
  {
   "cell_type": "markdown",
   "id": "50a2bfb8",
   "metadata": {},
   "source": [
    "Changing the passenger count and payment type data type to integer as they are present in float"
   ]
  },
  {
   "cell_type": "code",
   "execution_count": 21,
   "id": "65fed562",
   "metadata": {},
   "outputs": [],
   "source": [
    "taxi_data['passenger_count'] = taxi_data['passenger_count'].astype('int64')\n",
    "taxi_data['payment_type'] = taxi_data['payment_type'].astype('int64')"
   ]
  },
  {
   "cell_type": "markdown",
   "id": "65041993",
   "metadata": {},
   "source": [
    "Check for the duplicate rows"
   ]
  },
  {
   "cell_type": "code",
   "execution_count": 23,
   "id": "eb3ab58a",
   "metadata": {},
   "outputs": [
    {
     "data": {
      "text/html": [
       "<div>\n",
       "<style scoped>\n",
       "    .dataframe tbody tr th:only-of-type {\n",
       "        vertical-align: middle;\n",
       "    }\n",
       "\n",
       "    .dataframe tbody tr th {\n",
       "        vertical-align: top;\n",
       "    }\n",
       "\n",
       "    .dataframe thead th {\n",
       "        text-align: right;\n",
       "    }\n",
       "</style>\n",
       "<table border=\"1\" class=\"dataframe\">\n",
       "  <thead>\n",
       "    <tr style=\"text-align: right;\">\n",
       "      <th></th>\n",
       "      <th>passenger_count</th>\n",
       "      <th>trip_distance</th>\n",
       "      <th>payment_type</th>\n",
       "      <th>fare_amount</th>\n",
       "      <th>duration</th>\n",
       "    </tr>\n",
       "  </thead>\n",
       "  <tbody>\n",
       "    <tr>\n",
       "      <th>2056</th>\n",
       "      <td>1</td>\n",
       "      <td>0.00</td>\n",
       "      <td>2</td>\n",
       "      <td>7.0</td>\n",
       "      <td>0.000000</td>\n",
       "    </tr>\n",
       "    <tr>\n",
       "      <th>2437</th>\n",
       "      <td>1</td>\n",
       "      <td>0.00</td>\n",
       "      <td>1</td>\n",
       "      <td>52.0</td>\n",
       "      <td>0.200000</td>\n",
       "    </tr>\n",
       "    <tr>\n",
       "      <th>2442</th>\n",
       "      <td>2</td>\n",
       "      <td>1.70</td>\n",
       "      <td>1</td>\n",
       "      <td>9.5</td>\n",
       "      <td>13.066667</td>\n",
       "    </tr>\n",
       "    <tr>\n",
       "      <th>2461</th>\n",
       "      <td>1</td>\n",
       "      <td>0.40</td>\n",
       "      <td>1</td>\n",
       "      <td>4.0</td>\n",
       "      <td>3.083333</td>\n",
       "    </tr>\n",
       "    <tr>\n",
       "      <th>3336</th>\n",
       "      <td>1</td>\n",
       "      <td>1.20</td>\n",
       "      <td>1</td>\n",
       "      <td>6.0</td>\n",
       "      <td>5.350000</td>\n",
       "    </tr>\n",
       "    <tr>\n",
       "      <th>...</th>\n",
       "      <td>...</td>\n",
       "      <td>...</td>\n",
       "      <td>...</td>\n",
       "      <td>...</td>\n",
       "      <td>...</td>\n",
       "    </tr>\n",
       "    <tr>\n",
       "      <th>6405186</th>\n",
       "      <td>1</td>\n",
       "      <td>2.82</td>\n",
       "      <td>2</td>\n",
       "      <td>10.0</td>\n",
       "      <td>9.333333</td>\n",
       "    </tr>\n",
       "    <tr>\n",
       "      <th>6405192</th>\n",
       "      <td>1</td>\n",
       "      <td>0.00</td>\n",
       "      <td>2</td>\n",
       "      <td>0.0</td>\n",
       "      <td>1.166667</td>\n",
       "    </tr>\n",
       "    <tr>\n",
       "      <th>6405194</th>\n",
       "      <td>1</td>\n",
       "      <td>1.56</td>\n",
       "      <td>1</td>\n",
       "      <td>8.0</td>\n",
       "      <td>8.700000</td>\n",
       "    </tr>\n",
       "    <tr>\n",
       "      <th>6405195</th>\n",
       "      <td>2</td>\n",
       "      <td>0.02</td>\n",
       "      <td>3</td>\n",
       "      <td>-2.5</td>\n",
       "      <td>0.316667</td>\n",
       "    </tr>\n",
       "    <tr>\n",
       "      <th>6405196</th>\n",
       "      <td>2</td>\n",
       "      <td>0.02</td>\n",
       "      <td>2</td>\n",
       "      <td>2.5</td>\n",
       "      <td>0.316667</td>\n",
       "    </tr>\n",
       "  </tbody>\n",
       "</table>\n",
       "<p>3331803 rows × 5 columns</p>\n",
       "</div>"
      ],
      "text/plain": [
       "         passenger_count  trip_distance  payment_type  fare_amount   duration\n",
       "2056                   1           0.00             2          7.0   0.000000\n",
       "2437                   1           0.00             1         52.0   0.200000\n",
       "2442                   2           1.70             1          9.5  13.066667\n",
       "2461                   1           0.40             1          4.0   3.083333\n",
       "3336                   1           1.20             1          6.0   5.350000\n",
       "...                  ...            ...           ...          ...        ...\n",
       "6405186                1           2.82             2         10.0   9.333333\n",
       "6405192                1           0.00             2          0.0   1.166667\n",
       "6405194                1           1.56             1          8.0   8.700000\n",
       "6405195                2           0.02             3         -2.5   0.316667\n",
       "6405196                2           0.02             2          2.5   0.316667\n",
       "\n",
       "[3331803 rows x 5 columns]"
      ]
     },
     "execution_count": 23,
     "metadata": {},
     "output_type": "execute_result"
    }
   ],
   "source": [
    "taxi_data[taxi_data.duplicated()]"
   ]
  },
  {
   "cell_type": "markdown",
   "id": "2875c7b1",
   "metadata": {},
   "source": [
    "Removing duplicate rows as they will not contribute in analysis"
   ]
  },
  {
   "cell_type": "code",
   "execution_count": 24,
   "id": "373757d3",
   "metadata": {},
   "outputs": [],
   "source": [
    "taxi_data.drop_duplicates(inplace=True)"
   ]
  },
  {
   "cell_type": "markdown",
   "id": "fde63e19",
   "metadata": {},
   "source": [
    "After removing missing values and duplicate rows, now we have this much records left"
   ]
  },
  {
   "cell_type": "code",
   "execution_count": 25,
   "id": "36dd6712",
   "metadata": {},
   "outputs": [
    {
     "data": {
      "text/plain": [
       "(3007954, 5)"
      ]
     },
     "execution_count": 25,
     "metadata": {},
     "output_type": "execute_result"
    }
   ],
   "source": [
    "taxi_data.shape"
   ]
  },
  {
   "cell_type": "markdown",
   "id": "a5857503",
   "metadata": {},
   "source": [
    "Passenger Count Distribution"
   ]
  },
  {
   "cell_type": "code",
   "execution_count": 26,
   "id": "006de093",
   "metadata": {},
   "outputs": [
    {
     "data": {
      "text/plain": [
       "passenger_count\n",
       "1    0.581981\n",
       "2    0.190347\n",
       "3    0.066361\n",
       "5    0.062939\n",
       "6    0.039269\n",
       "4    0.036050\n",
       "0    0.023032\n",
       "7    0.000009\n",
       "9    0.000006\n",
       "8    0.000006\n",
       "Name: proportion, dtype: float64"
      ]
     },
     "execution_count": 26,
     "metadata": {},
     "output_type": "execute_result"
    }
   ],
   "source": [
    "taxi_data['passenger_count'].value_counts(normalize=True)"
   ]
  },
  {
   "cell_type": "markdown",
   "id": "d4583d3a",
   "metadata": {},
   "source": [
    "Payment type distribution"
   ]
  },
  {
   "cell_type": "code",
   "execution_count": 28,
   "id": "27eb6f71",
   "metadata": {},
   "outputs": [
    {
     "data": {
      "text/plain": [
       "payment_type\n",
       "1    2040184\n",
       "2     925180\n",
       "3      26231\n",
       "4      16358\n",
       "5          1\n",
       "Name: count, dtype: int64"
      ]
     },
     "execution_count": 28,
     "metadata": {},
     "output_type": "execute_result"
    }
   ],
   "source": [
    "taxi_data['payment_type'].value_counts()"
   ]
  },
  {
   "cell_type": "markdown",
   "id": "19b9ca90",
   "metadata": {},
   "source": [
    "We will focus solely on payment types 'card' and 'cash', denoted by 1 and 2 in dataset. To ensure our analysis centers on these payment methods, we'll filter the data accordingly, excluding all other types."
   ]
  },
  {
   "cell_type": "markdown",
   "id": "f8c8d97b",
   "metadata": {},
   "source": [
    "Moreover,examining the distribution of passenger counts reveals that trips with more than 5 passenger are rare. Additionally, trips with 0 passengers are impossible, as we expect at least one passenger to pay the fare amount. Therefore, we will filter the passenger count to include only values ranging from 1 to 5."
   ]
  },
  {
   "cell_type": "code",
   "execution_count": 29,
   "id": "f6946cc0",
   "metadata": {},
   "outputs": [],
   "source": [
    "#filtering for payment type 1 and 2\n",
    "taxi_data = taxi_data[taxi_data['payment_type']<3]\n",
    "\n",
    "#filtering for passenger count from 1 to 5\n",
    "taxi_data = taxi_data[(taxi_data['passenger_count']>0)&(taxi_data['passenger_count']<6)]"
   ]
  },
  {
   "cell_type": "markdown",
   "id": "395238d2",
   "metadata": {},
   "source": [
    "replacing the payment type encoded value 1 and 2 to Card and Cash"
   ]
  },
  {
   "cell_type": "code",
   "execution_count": 30,
   "id": "b7962677",
   "metadata": {},
   "outputs": [],
   "source": [
    "taxi_data['payment_type'].replace([1,2],['Card','Cash'], inplace=True)"
   ]
  },
  {
   "cell_type": "markdown",
   "id": "e2889f07",
   "metadata": {},
   "source": [
    "Descriptive statistics for data"
   ]
  },
  {
   "cell_type": "code",
   "execution_count": 31,
   "id": "ce0439a0",
   "metadata": {},
   "outputs": [
    {
     "data": {
      "text/html": [
       "<div>\n",
       "<style scoped>\n",
       "    .dataframe tbody tr th:only-of-type {\n",
       "        vertical-align: middle;\n",
       "    }\n",
       "\n",
       "    .dataframe tbody tr th {\n",
       "        vertical-align: top;\n",
       "    }\n",
       "\n",
       "    .dataframe thead th {\n",
       "        text-align: right;\n",
       "    }\n",
       "</style>\n",
       "<table border=\"1\" class=\"dataframe\">\n",
       "  <thead>\n",
       "    <tr style=\"text-align: right;\">\n",
       "      <th></th>\n",
       "      <th>passenger_count</th>\n",
       "      <th>trip_distance</th>\n",
       "      <th>fare_amount</th>\n",
       "      <th>duration</th>\n",
       "    </tr>\n",
       "  </thead>\n",
       "  <tbody>\n",
       "    <tr>\n",
       "      <th>count</th>\n",
       "      <td>2.780384e+06</td>\n",
       "      <td>2.780384e+06</td>\n",
       "      <td>2.780384e+06</td>\n",
       "      <td>2.780384e+06</td>\n",
       "    </tr>\n",
       "    <tr>\n",
       "      <th>mean</th>\n",
       "      <td>1.733404e+00</td>\n",
       "      <td>4.536704e+00</td>\n",
       "      <td>1.780549e+01</td>\n",
       "      <td>2.415297e+01</td>\n",
       "    </tr>\n",
       "    <tr>\n",
       "      <th>std</th>\n",
       "      <td>1.176671e+00</td>\n",
       "      <td>4.895810e+00</td>\n",
       "      <td>1.506912e+01</td>\n",
       "      <td>9.257787e+01</td>\n",
       "    </tr>\n",
       "    <tr>\n",
       "      <th>min</th>\n",
       "      <td>1.000000e+00</td>\n",
       "      <td>-2.218000e+01</td>\n",
       "      <td>-5.000000e+02</td>\n",
       "      <td>-2.770367e+03</td>\n",
       "    </tr>\n",
       "    <tr>\n",
       "      <th>25%</th>\n",
       "      <td>1.000000e+00</td>\n",
       "      <td>1.500000e+00</td>\n",
       "      <td>9.000000e+00</td>\n",
       "      <td>9.883333e+00</td>\n",
       "    </tr>\n",
       "    <tr>\n",
       "      <th>50%</th>\n",
       "      <td>1.000000e+00</td>\n",
       "      <td>2.730000e+00</td>\n",
       "      <td>1.300000e+01</td>\n",
       "      <td>1.573333e+01</td>\n",
       "    </tr>\n",
       "    <tr>\n",
       "      <th>75%</th>\n",
       "      <td>2.000000e+00</td>\n",
       "      <td>5.470000e+00</td>\n",
       "      <td>2.100000e+01</td>\n",
       "      <td>2.336667e+01</td>\n",
       "    </tr>\n",
       "    <tr>\n",
       "      <th>max</th>\n",
       "      <td>5.000000e+00</td>\n",
       "      <td>2.628800e+02</td>\n",
       "      <td>4.265000e+03</td>\n",
       "      <td>8.525117e+03</td>\n",
       "    </tr>\n",
       "  </tbody>\n",
       "</table>\n",
       "</div>"
      ],
      "text/plain": [
       "       passenger_count  trip_distance   fare_amount      duration\n",
       "count     2.780384e+06   2.780384e+06  2.780384e+06  2.780384e+06\n",
       "mean      1.733404e+00   4.536704e+00  1.780549e+01  2.415297e+01\n",
       "std       1.176671e+00   4.895810e+00  1.506912e+01  9.257787e+01\n",
       "min       1.000000e+00  -2.218000e+01 -5.000000e+02 -2.770367e+03\n",
       "25%       1.000000e+00   1.500000e+00  9.000000e+00  9.883333e+00\n",
       "50%       1.000000e+00   2.730000e+00  1.300000e+01  1.573333e+01\n",
       "75%       2.000000e+00   5.470000e+00  2.100000e+01  2.336667e+01\n",
       "max       5.000000e+00   2.628800e+02  4.265000e+03  8.525117e+03"
      ]
     },
     "execution_count": 31,
     "metadata": {},
     "output_type": "execute_result"
    }
   ],
   "source": [
    "taxi_data.describe()"
   ]
  },
  {
   "cell_type": "markdown",
   "id": "35435235",
   "metadata": {},
   "source": [
    "Upon reviewing the provided statistics, it's evident that the minimun values for trip distance, fare amount, and duration are negative, which is unrealistic and invalid for futher analysis. Consequently, we will eliminate these negative values from the dataset."
   ]
  },
  {
   "cell_type": "markdown",
   "id": "6b8dc073",
   "metadata": {},
   "source": [
    "Futhermore, observing the maximum and 50th percentile values, it's possible that the data contains significant outliers, particularly high values. These outliers need to be addressed and removed to ensure the integrity of the analysis."
   ]
  },
  {
   "cell_type": "code",
   "execution_count": null,
   "id": "a0cf7fcf",
   "metadata": {},
   "outputs": [],
   "source": [
    "#filtering the records for only positive values\n",
    "taxi_data = taxi_data[taxi_data['fare_amount']>0]\n",
    "taxi_data = taxi_data[taxi_data['trip_distance']>0]\n",
    "taxi_data = taxi_data[taxi_data['duration']>0]"
   ]
  },
  {
   "cell_type": "markdown",
   "id": "27b16bf7",
   "metadata": {},
   "source": [
    "Check for the outliers"
   ]
  },
  {
   "cell_type": "code",
   "execution_count": 33,
   "id": "d2887ce3",
   "metadata": {},
   "outputs": [
    {
     "data": {
      "image/png": "[encoded data removed]",
      "text/plain": [
       "<Figure size 640x480 with 1 Axes>"
      ]
     },
     "metadata": {},
     "output_type": "display_data"
    }
   ],
   "source": [
    "sns.boxplot(data=taxi_data,y='fare_amount',x='payment_type')\n",
    "plt.show()"
   ]
  },
  {
   "cell_type": "markdown",
   "id": "382712f6",
   "metadata": {},
   "source": [
    "removing outliers using InterQuartile Range for the numerical variables"
   ]
  },
  {
   "cell_type": "code",
   "execution_count": 34,
   "id": "fab779f9",
   "metadata": {},
   "outputs": [],
   "source": [
    "for col in ['trip_distance','fare_amount','duration']:\n",
    "    Q1 = taxi_data[col].quantile(0.25)\n",
    "    Q3 = taxi_data[col].quantile(0.75)\n",
    "    IQR = Q3 -Q1\n",
    "\n",
    "    #Define lower and upper bounds for outliers\n",
    "    lower_bound = Q1 - 1.5 * IQR\n",
    "    upper_bound = Q3 + 1.5 * IQR\n",
    "\n",
    "    #filter out outliers\n",
    "    taxi_data = taxi_data[(taxi_data[col] >= lower_bound) & (taxi_data[col] <= upper_bound)]"
   ]
  },
  {
   "cell_type": "markdown",
   "id": "33dd492f",
   "metadata": {},
   "source": [
    "We're interseted on exploring the relationship between payment type and passenger behavior concerning trip distance and fare amount. Are there variations in the distribution of payment types concerning different fare amounts or trip distance?"
   ]
  },
  {
   "cell_type": "markdown",
   "id": "9e372020",
   "metadata": {},
   "source": [
    "To investigate this, we'll plot histograms to visualize the distribution of passenger counts paying with either card or cash. This will also provide stakeholders with insight into fare amount ranges associated with different payment methods."
   ]
  },
  {
   "cell_type": "code",
   "execution_count": 36,
   "id": "393d4e58",
   "metadata": {},
   "outputs": [
    {
     "data": {
      "image/png": "[encoded data removed]",
      "text/plain": [
       "<Figure size 1200x500 with 2 Axes>"
      ]
     },
     "metadata": {},
     "output_type": "display_data"
    }
   ],
   "source": [
    "plt.figure(figsize=(12,5))\n",
    "\n",
    "# 1st subplot: fare amount\n",
    "plt.subplot(1,2,1)\n",
    "plt.title(\"Distribution of Fare amount\")\n",
    "plt.hist(taxi_data[taxi_data['payment_type']=='Card']['fare_amount'], histtype='barstacked', bins = 20, edgecolor = 'k', color = '#FA643F', label = 'Card')\n",
    "plt.hist(taxi_data[taxi_data['payment_type']=='Cash']['fare_amount'], histtype='barstacked', bins = 20, edgecolor = 'k', color = '#FFBCAB', label = 'Cash')\n",
    "plt.legend()\n",
    "\n",
    "# 2nd subplot: trip distance\n",
    "plt.subplot(1,2,2)\n",
    "plt.title(\"Distribution of Trip Distance\")\n",
    "plt.hist(taxi_data[taxi_data['payment_type']=='Card']['trip_distance'], histtype='barstacked', bins = 20, edgecolor = 'k', color = '#FA643F', label = 'Card')\n",
    "plt.hist(taxi_data[taxi_data['payment_type']=='Cash']['trip_distance'], histtype='barstacked', bins = 20, edgecolor = 'k', color = '#FFBCAB', label = 'Cash')\n",
    "plt.legend()\n",
    "\n",
    "plt.show()\n"
   ]
  },
  {
   "cell_type": "code",
   "execution_count": 37,
   "id": "0da7d024",
   "metadata": {},
   "outputs": [
    {
     "data": {
      "text/html": [
       "<div>\n",
       "<style scoped>\n",
       "    .dataframe tbody tr th:only-of-type {\n",
       "        vertical-align: middle;\n",
       "    }\n",
       "\n",
       "    .dataframe tbody tr th {\n",
       "        vertical-align: top;\n",
       "    }\n",
       "\n",
       "    .dataframe thead tr th {\n",
       "        text-align: left;\n",
       "    }\n",
       "\n",
       "    .dataframe thead tr:last-of-type th {\n",
       "        text-align: right;\n",
       "    }\n",
       "</style>\n",
       "<table border=\"1\" class=\"dataframe\">\n",
       "  <thead>\n",
       "    <tr>\n",
       "      <th></th>\n",
       "      <th colspan=\"2\" halign=\"left\">fare_amount</th>\n",
       "      <th colspan=\"2\" halign=\"left\">trip_distance</th>\n",
       "    </tr>\n",
       "    <tr>\n",
       "      <th></th>\n",
       "      <th>mean</th>\n",
       "      <th>std</th>\n",
       "      <th>mean</th>\n",
       "      <th>std</th>\n",
       "    </tr>\n",
       "    <tr>\n",
       "      <th>payment_type</th>\n",
       "      <th></th>\n",
       "      <th></th>\n",
       "      <th></th>\n",
       "      <th></th>\n",
       "    </tr>\n",
       "  </thead>\n",
       "  <tbody>\n",
       "    <tr>\n",
       "      <th>Card</th>\n",
       "      <td>13.70201</td>\n",
       "      <td>6.506360</td>\n",
       "      <td>3.230765</td>\n",
       "      <td>2.320528</td>\n",
       "    </tr>\n",
       "    <tr>\n",
       "      <th>Cash</th>\n",
       "      <td>12.25038</td>\n",
       "      <td>6.246215</td>\n",
       "      <td>2.803790</td>\n",
       "      <td>2.231926</td>\n",
       "    </tr>\n",
       "  </tbody>\n",
       "</table>\n",
       "</div>"
      ],
      "text/plain": [
       "             fare_amount           trip_distance          \n",
       "                    mean       std          mean       std\n",
       "payment_type                                              \n",
       "Card            13.70201  6.506360      3.230765  2.320528\n",
       "Cash            12.25038  6.246215      2.803790  2.231926"
      ]
     },
     "execution_count": 37,
     "metadata": {},
     "output_type": "execute_result"
    }
   ],
   "source": [
    "taxi_data.groupby('payment_type').agg({'fare_amount':['mean','std'],'trip_distance':['mean','std']})"
   ]
  },
  {
   "cell_type": "markdown",
   "id": "6b1eab3e",
   "metadata": {},
   "source": [
    "Now, in order to examine the passenger's preference regrading their choice of payment method, we will assess the proportion of the two payment types.To provide a visual representation, we have opted to utilize a pie chart. This graphical depiction will offer a clear and intuitive understanding of the distribution between the two payment methods chosen by passengers."
   ]
  },
  {
   "cell_type": "code",
   "execution_count": 38,
   "id": "8531c2ce",
   "metadata": {},
   "outputs": [
    {
     "data": {
      "image/png": "[encoded data removed]",
      "text/plain": [
       "<Figure size 640x480 with 1 Axes>"
      ]
     },
     "metadata": {},
     "output_type": "display_data"
    }
   ],
   "source": [
    "plt.title('Preference of Payment Type')\n",
    "plt.pie(taxi_data['payment_type'].value_counts(normalize= True), labels=taxi_data['payment_type'].value_counts().index,startangle=90,shadow=True,autopct='%1.1f%%', colors=['#FA643F','#FFBCAB'])\n",
    "plt.show()"
   ]
  },
  {
   "cell_type": "markdown",
   "id": "f7c496e5",
   "metadata": {},
   "source": [
    "Subsequently, we aim to conduct an analysis of the payment types in relation to the passengers count. Our objective is to investigate if there are any changes in preference contingent upon the number of passengers traveling in the cab."
   ]
  },
  {
   "cell_type": "markdown",
   "id": "91026791",
   "metadata": {},
   "source": [
    "To facilitate this examination, we have employed a visualization technique known as a stacked bar plot. This method is particularly advantageous  for comparing the percentage distribution of each passenger count based on the payment methor selected. Through this graphical representation, we can gain insights into potential variations in payment preference across different passenger counts."
   ]
  },
  {
   "cell_type": "code",
   "execution_count": 39,
   "id": "cbc25741",
   "metadata": {},
   "outputs": [
    {
     "data": {
      "image/png": "[encoded data removed]",
      "text/plain": [
       "<Figure size 2000x600 with 1 Axes>"
      ]
     },
     "metadata": {},
     "output_type": "display_data"
    }
   ],
   "source": [
    "#calculating the total passenger count distribution based on the different payment type\n",
    "passenger_count = taxi_data.groupby(['payment_type','passenger_count'])[['passenger_count']].count()\n",
    "\n",
    "#renaming th passenger_count to count to reset the index\n",
    "passenger_count.rename(columns = {'passenger_count':'count'}, inplace = True)\n",
    "passenger_count.reset_index(inplace=True)\n",
    "\n",
    "#calculating the percentage of the each passenger count\n",
    "passenger_count['perc'] = (passenger_count['count']/passenger_count['count'].sum())*100\n",
    "\n",
    "#creating a new empty dataframe to store the distribution of each payment type(useful for the visualization)\n",
    "df = pd.DataFrame(columns=['payment_type',1,2,3,4,5])\n",
    "df['payment_type'] = ['Card','Cash']\n",
    "df.iloc[0,1:] = passenger_count.iloc[:5,-1]\n",
    "df.iloc[1,1:] = passenger_count.iloc[5:,-1]\n",
    "\n",
    "fig, ax = plt.subplots(figsize=(20,6))\n",
    "df.plot(x='payment_type', kind='barh', stacked=True, title= ' ', ax=ax, color=['#FA643F','#FFBCAB','#CBB2B2','#F1F1F1','#FD9F9F'])\n",
    "\n",
    "#Add percentage text\n",
    "for p in ax.patches:\n",
    "    width = p.get_width()\n",
    "    height = p.get_height()\n",
    "    x, y = p.get_xy()\n",
    "    ax.text(x + width/2, y + height/2, '{:.0f}%'.format(width), horizontalalignment='center', verticalalignment='center')\n"
   ]
  },
  {
   "cell_type": "markdown",
   "id": "29900370",
   "metadata": {},
   "source": [
    "# Hypothesis Testing"
   ]
  },
  {
   "cell_type": "markdown",
   "id": "4344590f",
   "metadata": {},
   "source": [
    "In order to select the most suitable test for our scenario, our initial step involves evaluating whether the distribution of fare amounts adheres to a normal distribution. While the histogram depicted above suggests otherwise, we will further confirm this by generating a QQ plot."
   ]
  },
  {
   "cell_type": "markdown",
   "id": "0b10b671",
   "metadata": {},
   "source": [
    "Quantile-quantile (QQ) plots can be used to assess whether the fare amount distributions for each payment type are approximately normally distributed. If the data points closely align with the diagonal line in the plot, it suggests that the data follows a normal distribution."
   ]
  },
  {
   "cell_type": "code",
   "execution_count": 40,
   "id": "5ca24439",
   "metadata": {},
   "outputs": [
    {
     "data": {
      "image/png": "[encoded data removed]",
      "text/plain": [
       "<Figure size 640x480 with 1 Axes>"
      ]
     },
     "metadata": {},
     "output_type": "display_data"
    }
   ],
   "source": [
    "# create QQ plot with 45-degree line added to plot\n",
    "fig = sm.qqplot(taxi_data['fare_amount'], line = '45')\n",
    "plt.show()"
   ]
  },
  {
   "cell_type": "markdown",
   "id": "3c416df4",
   "metadata": {},
   "source": [
    "The data values clearly do not follow the red 45-degree line, which is an indication that they do not follow a normal distribution. So, Z distribution will not be good for this.That's why we use T-test.\n"
   ]
  },
  {
   "cell_type": "markdown",
   "id": "3535ff9d",
   "metadata": {},
   "source": [
    "Given that the T-test can be applied to both small and large samples and does not require the population standard deviation,  it is a universally applicable approach for hypothesis testing in many pratical research scenarios, including analyses of taxi trip data."
   ]
  },
  {
   "cell_type": "markdown",
   "id": "caa67a35",
   "metadata": {},
   "source": [
    "In the analyses of NYC Yellow Taxi trip data, where you’re likely dealing with an unknown population standard deviation and potentially large datasets, the T-test offers a more appropriate and flexible method for comparing means between two groups (e.g., fare amounts by payment type). It provides a reliable way to infer about the population, accommodating the uncertainty that comes with estimating population parameters from sample data."
   ]
  },
  {
   "cell_type": "markdown",
   "id": "81e79bbd",
   "metadata": {},
   "source": [
    "**Null hypothesis:** There is no difference in average fare between customers who use credit cards and customers who use cash.\n",
    "\n",
    "**Alternative hypothesis:** There is a difference in average fare between customers who use credit cards and customers who use cash."
   ]
  },
  {
   "cell_type": "code",
   "execution_count": 41,
   "id": "7e0f73bd",
   "metadata": {},
   "outputs": [
    {
     "name": "stdout",
     "output_type": "stream",
     "text": [
      "T-statistic: 165.5935203212796, p-value: 0.0\n",
      "\n",
      "Reject the null hypothesis\n"
     ]
    }
   ],
   "source": [
    "#sample 1\n",
    "credit_card = taxi_data[taxi_data['payment_type']=='Card']['fare_amount']\n",
    "\n",
    "#sample 2\n",
    "cash = taxi_data[taxi_data['payment_type']=='Cash']['fare_amount']\n",
    "\n",
    "#performing t test on both the different sample\n",
    "t_stats, p_value = st.ttest_ind(a=credit_card, b=cash,equal_var=False)\n",
    "print(f'T-statistic: {t_stats}, p-value: {p_value}')\n",
    "\n",
    "#comparing the p value with the significance of 5% or 0.05\n",
    "if p_value < 0.05:\n",
    "    print('\\nReject the null hypothesis')\n",
    "else:\n",
    "    print('\\nAccept the null hypothesis')"
   ]
  },
  {
   "cell_type": "markdown",
   "id": "8417fee3",
   "metadata": {},
   "source": [
    "Since the p-value is significantly smaller than the significance level of 5%, we will reject the null hypothesis.\n",
    "You conclude that there is a statistically significant difference in the average fare amount between customers who use credit cards and customers who use cash.\n",
    "The key business insight is that encouraging customers to pay with credit cards can generate more revenue for taxi cab drivers.\n"
   ]
  },
  {
   "cell_type": "markdown",
   "id": "c69fcd37",
   "metadata": {},
   "source": []
  }
 ],
 "metadata": {
  "kernelspec": {
   "display_name": "Python 3",
   "language": "python",
   "name": "python3"
  },
  "language_info": {
   "codemirror_mode": {
    "name": "ipython",
    "version": 3
   },
   "file_extension": ".py",
   "mimetype": "text/x-python",
   "name": "python",
   "nbconvert_exporter": "python",
   "pygments_lexer": "ipython3",
   "version": "3.13.3"
  }
 },
 "nbformat": 4,
 "nbformat_minor": 5
}
